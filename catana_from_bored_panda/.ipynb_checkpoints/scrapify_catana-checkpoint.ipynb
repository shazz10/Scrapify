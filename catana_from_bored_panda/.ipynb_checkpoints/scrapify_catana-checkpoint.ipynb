{
 "cells": [
  {
   "cell_type": "markdown",
   "metadata": {},
   "source": [
    "# Scarping CatanaComics images from BoredPanda for someone special"
   ]
  },
  {
   "cell_type": "raw",
   "metadata": {},
   "source": [
    "The webpage is a infinitely scrolling webpage and new photos appear whenever u scroll down to bottom.\n",
    "So, to scrape from this page I followed the following steps.\n",
    "1.Goto \"https://www.boredpanda.com/couple-comics-catanacomics/\"\n",
    "2.Right Click anywhere and click on inspect or(Ctrl+Shift+j in chrome)\n",
    "3.Switch to network tab and scroll down on main page\n",
    "4.When bottom is reached, new elements appear in the Name column and then search for type \"XHR\" and i found the name \"?page_numb=2\" \n",
    "5.That concludes where to go for next pages"
   ]
  },
  {
   "cell_type": "code",
   "execution_count": 1,
   "metadata": {},
   "outputs": [],
   "source": [
    "import requests, os, bs4"
   ]
  },
  {
   "cell_type": "code",
   "execution_count": 34,
   "metadata": {},
   "outputs": [],
   "source": [
    "import urllib"
   ]
  },
  {
   "cell_type": "code",
   "execution_count": 37,
   "metadata": {},
   "outputs": [],
   "source": [
    "for i in range(1,7):\n",
    "    url = 'https://www.boredpanda.com/couple-comics-catanacomics/?page_numb={0}'.format(i)\n",
    "    res = requests.get(url)\n",
    "    res.raise_for_status()\n",
    "    soup = bs4.BeautifulSoup(res.text)\n",
    "    imgs=soup.find_all('img',{'class':'image-size-full'})\n",
    "    for j in range(len(imgs)):\n",
    "        urllib.request.urlretrieve(imgs[j][\"src\"], \"imgs/{0}.jpg\".format((i-1)*10+j))"
   ]
  },
  {
   "cell_type": "markdown",
   "metadata": {},
   "source": [
    "# Convert list of downloaded images into 1 pdf file"
   ]
  },
  {
   "cell_type": "code",
   "execution_count": 1,
   "metadata": {},
   "outputs": [],
   "source": [
    "import glob"
   ]
  },
  {
   "cell_type": "code",
   "execution_count": 2,
   "metadata": {},
   "outputs": [],
   "source": [
    "from fpdf import FPDF"
   ]
  },
  {
   "cell_type": "code",
   "execution_count": 3,
   "metadata": {},
   "outputs": [],
   "source": [
    "images=glob.glob(\"imgs/*.jpg\")"
   ]
  },
  {
   "cell_type": "code",
   "execution_count": 4,
   "metadata": {},
   "outputs": [
    {
     "data": {
      "text/plain": [
       "59"
      ]
     },
     "execution_count": 4,
     "metadata": {},
     "output_type": "execute_result"
    }
   ],
   "source": [
    "len(images)"
   ]
  },
  {
   "cell_type": "code",
   "execution_count": 5,
   "metadata": {},
   "outputs": [],
   "source": [
    "pdf=FPDF()"
   ]
  },
  {
   "cell_type": "code",
   "execution_count": 6,
   "metadata": {},
   "outputs": [],
   "source": [
    "for image in images:\n",
    "    pdf.add_page()\n",
    "    pdf.image(image,0,0,200,200)"
   ]
  },
  {
   "cell_type": "code",
   "execution_count": 7,
   "metadata": {},
   "outputs": [
    {
     "data": {
      "text/plain": [
       "''"
      ]
     },
     "execution_count": 7,
     "metadata": {},
     "output_type": "execute_result"
    }
   ],
   "source": [
    "pdf.output(\"catana_comics.pdf\", \"F\")"
   ]
  },
  {
   "cell_type": "code",
   "execution_count": null,
   "metadata": {},
   "outputs": [],
   "source": []
  }
 ],
 "metadata": {
  "kernelspec": {
   "display_name": "Python 3",
   "language": "python",
   "name": "python3"
  },
  "language_info": {
   "codemirror_mode": {
    "name": "ipython",
    "version": 3
   },
   "file_extension": ".py",
   "mimetype": "text/x-python",
   "name": "python",
   "nbconvert_exporter": "python",
   "pygments_lexer": "ipython3",
   "version": "3.6.7"
  }
 },
 "nbformat": 4,
 "nbformat_minor": 2
}
