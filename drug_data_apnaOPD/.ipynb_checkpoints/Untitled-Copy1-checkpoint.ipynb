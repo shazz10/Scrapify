{
 "cells": [
  {
   "cell_type": "code",
   "execution_count": 1,
   "metadata": {},
   "outputs": [],
   "source": [
    "import requests, os, bs4\n",
    "import pandas as pd"
   ]
  },
  {
   "cell_type": "code",
   "execution_count": 2,
   "metadata": {},
   "outputs": [],
   "source": [
    "alph=[]\n",
    "for i in range(90,91):\n",
    "    alph.append(chr(i))"
   ]
  },
  {
   "cell_type": "code",
   "execution_count": 3,
   "metadata": {},
   "outputs": [
    {
     "data": {
      "text/plain": [
       "['Z']"
      ]
     },
     "execution_count": 3,
     "metadata": {},
     "output_type": "execute_result"
    }
   ],
   "source": [
    "alph"
   ]
  },
  {
   "cell_type": "code",
   "execution_count": 4,
   "metadata": {},
   "outputs": [],
   "source": [
    "generic_name=[]\n",
    "link=[]"
   ]
  },
  {
   "cell_type": "code",
   "execution_count": 5,
   "metadata": {},
   "outputs": [],
   "source": [
    "for c in range(len(alph)):    \n",
    "    url = 'https://www.medindia.net/drug-price/index.asp?alpha={0}'.format(alph[c])              \n",
    "    res = requests.get(url)\n",
    "    res.raise_for_status()\n",
    "    soup = bs4.BeautifulSoup(res.text)\n",
    "    table=soup.find_all('table')\n",
    "    j=table[1].find_all('tr')\n",
    "    for k in j:\n",
    "        l=k.find_all('td')\n",
    "        try :\n",
    "            href=l[-2].find('a').get('href')\n",
    "            link.append(href)\n",
    "            if l[1].string!=None:\n",
    "                generic_name.append(l[1].string)\n",
    "            else:\n",
    "                generic_name.append(l[1].find('a').string)\n",
    "        except Exception as e:\n",
    "            continue"
   ]
  },
  {
   "cell_type": "code",
   "execution_count": 6,
   "metadata": {},
   "outputs": [],
   "source": [
    "for i in range(len(generic_name)):\n",
    "    if '\\n                              \\xa0' in generic_name[i]:\n",
    "        generic_name[i]=generic_name[i][len('\\n                              \\xa0  '):]\n",
    "    else :\n",
    "        generic_name[i]=generic_name[i][1:]"
   ]
  },
  {
   "cell_type": "code",
   "execution_count": 7,
   "metadata": {},
   "outputs": [
    {
     "data": {
      "text/plain": [
       "17"
      ]
     },
     "execution_count": 7,
     "metadata": {},
     "output_type": "execute_result"
    }
   ],
   "source": [
    "len(generic_name)"
   ]
  },
  {
   "cell_type": "code",
   "execution_count": 8,
   "metadata": {},
   "outputs": [
    {
     "data": {
      "text/plain": [
       "17"
      ]
     },
     "execution_count": 8,
     "metadata": {},
     "output_type": "execute_result"
    }
   ],
   "source": [
    "len(link)"
   ]
  },
  {
   "cell_type": "code",
   "execution_count": 9,
   "metadata": {},
   "outputs": [
    {
     "data": {
      "text/plain": [
       "['Zafirlukast',\n",
       " 'Zaleplon',\n",
       " 'Zaltoprofen',\n",
       " 'Zanamivir',\n",
       " 'Zidovudine',\n",
       " 'Zinc',\n",
       " 'Zinc oxide',\n",
       " 'Zinc Pyrithione',\n",
       " 'Zinc Sulphate',\n",
       " 'Ziprasidone',\n",
       " 'Zoledronic Acid',\n",
       " 'Zolmitriptan',\n",
       " 'Zolpidem',\n",
       " 'Zonisamide',\n",
       " 'Zopiclone',\n",
       " 'Zotepine',\n",
       " 'Zuclopenthixol']"
      ]
     },
     "execution_count": 9,
     "metadata": {},
     "output_type": "execute_result"
    }
   ],
   "source": [
    "generic_name"
   ]
  },
  {
   "cell_type": "code",
   "execution_count": 10,
   "metadata": {},
   "outputs": [
    {
     "data": {
      "text/plain": [
       "['zafirlukast.htm',\n",
       " 'zaleplon.htm',\n",
       " 'zaltoprofen.htm',\n",
       " 'zanamivir.htm',\n",
       " 'zidovudine.htm',\n",
       " 'zinc.htm',\n",
       " 'zinc-oxide.htm',\n",
       " 'zinc-pyrithione.htm',\n",
       " 'zinc-sulphate.htm',\n",
       " 'ziprasidone.htm',\n",
       " 'zoledronic-acid.htm',\n",
       " 'zolmitriptan.htm',\n",
       " 'zolpidem.htm',\n",
       " 'zonisamide.htm',\n",
       " 'zopiclone.htm',\n",
       " 'zotepine.htm',\n",
       " 'zuclopenthixol.htm']"
      ]
     },
     "execution_count": 10,
     "metadata": {},
     "output_type": "execute_result"
    }
   ],
   "source": [
    "link"
   ]
  },
  {
   "cell_type": "code",
   "execution_count": 11,
   "metadata": {},
   "outputs": [],
   "source": [
    "brand=[]\n",
    "manufacturer=[]\n",
    "types=[]\n",
    "gen=[]"
   ]
  },
  {
   "cell_type": "code",
   "execution_count": 12,
   "metadata": {},
   "outputs": [],
   "source": [
    "for i in range(len(generic_name)):\n",
    "    url = 'https://www.medindia.net/drug-price/{0}'.format(link[i])             \n",
    "    res = requests.get(url)\n",
    "    res.raise_for_status()\n",
    "    soup = bs4.BeautifulSoup(res.text)\n",
    "    table= soup.find_all('table')\n",
    "    j=table[1].find_all('tr')\n",
    "    n=min(len(j),10)\n",
    "    for k in range(n):\n",
    "        l=j[k].find_all('td')\n",
    "        try :\n",
    "            brand.append(l[1].find('a').string)\n",
    "            gen.append(generic_name[i])\n",
    "            manufacturer.append(l[2].string)\n",
    "            types.append(l[3].string)\n",
    "\n",
    "        except Exception as e:\n",
    "            continue"
   ]
  },
  {
   "cell_type": "code",
   "execution_count": 13,
   "metadata": {},
   "outputs": [
    {
     "data": {
      "text/plain": [
       "79"
      ]
     },
     "execution_count": 13,
     "metadata": {},
     "output_type": "execute_result"
    }
   ],
   "source": [
    "len(brand)"
   ]
  },
  {
   "cell_type": "code",
   "execution_count": 14,
   "metadata": {},
   "outputs": [
    {
     "data": {
      "text/plain": [
       "79"
      ]
     },
     "execution_count": 14,
     "metadata": {},
     "output_type": "execute_result"
    }
   ],
   "source": [
    "len(gen)"
   ]
  },
  {
   "cell_type": "code",
   "execution_count": 15,
   "metadata": {},
   "outputs": [
    {
     "data": {
      "text/plain": [
       "79"
      ]
     },
     "execution_count": 15,
     "metadata": {},
     "output_type": "execute_result"
    }
   ],
   "source": [
    "len(manufacturer)"
   ]
  },
  {
   "cell_type": "code",
   "execution_count": 16,
   "metadata": {},
   "outputs": [
    {
     "data": {
      "text/plain": [
       "79"
      ]
     },
     "execution_count": 16,
     "metadata": {},
     "output_type": "execute_result"
    }
   ],
   "source": [
    "len(types)"
   ]
  },
  {
   "cell_type": "code",
   "execution_count": 17,
   "metadata": {},
   "outputs": [],
   "source": [
    "df=pd.DataFrame({'Generic Name' : gen, 'Brand Name' : brand , 'Manufacturer' : manufacturer, 'Type' : types})"
   ]
  },
  {
   "cell_type": "code",
   "execution_count": 27,
   "metadata": {},
   "outputs": [],
   "source": [
    "df.to_csv(\"drug_new.csv\",index=False)"
   ]
  },
  {
   "cell_type": "code",
   "execution_count": null,
   "metadata": {},
   "outputs": [],
   "source": []
  },
  {
   "cell_type": "code",
   "execution_count": 20,
   "metadata": {},
   "outputs": [],
   "source": [
    "df2=pd.read_csv(\"drug_new.csv\")"
   ]
  },
  {
   "cell_type": "code",
   "execution_count": 21,
   "metadata": {},
   "outputs": [],
   "source": [
    "df2 = df2.append(df,ignore_index=True)"
   ]
  },
  {
   "cell_type": "code",
   "execution_count": 23,
   "metadata": {},
   "outputs": [],
   "source": [
    "df2.to_csv(\"drug_new.csv\",index=False)"
   ]
  },
  {
   "cell_type": "code",
   "execution_count": null,
   "metadata": {},
   "outputs": [],
   "source": []
  }
 ],
 "metadata": {
  "kernelspec": {
   "display_name": "Python 3",
   "language": "python",
   "name": "python3"
  },
  "language_info": {
   "codemirror_mode": {
    "name": "ipython",
    "version": 3
   },
   "file_extension": ".py",
   "mimetype": "text/x-python",
   "name": "python",
   "nbconvert_exporter": "python",
   "pygments_lexer": "ipython3",
   "version": "3.6.6"
  }
 },
 "nbformat": 4,
 "nbformat_minor": 2
}
