{
 "cells": [
  {
   "cell_type": "code",
   "execution_count": 1,
   "metadata": {},
   "outputs": [],
   "source": [
    "import pandas as pd\n"
   ]
  },
  {
   "cell_type": "code",
   "execution_count": 2,
   "metadata": {},
   "outputs": [],
   "source": [
    "df=pd.read_csv(\"drug_new.csv\")"
   ]
  },
  {
   "cell_type": "code",
   "execution_count": 6,
   "metadata": {},
   "outputs": [
    {
     "data": {
      "text/plain": [
       "<bound method Series.unique of 0                 Tablet  \n",
       "1       Film coated tablet\n",
       "2                 Tablet  \n",
       "3       Film coated tablet\n",
       "4                 Tablet  \n",
       "5                 Tablet  \n",
       "6                 Tablet  \n",
       "7                 Tablet  \n",
       "8                Injection\n",
       "9                 Tablet  \n",
       "10                Tablet  \n",
       "11                Tablet  \n",
       "12                Tablet  \n",
       "13                Tablet  \n",
       "14                Tablet  \n",
       "15                Tablet  \n",
       "16                Tablet  \n",
       "17                Tablet  \n",
       "18                Tablet  \n",
       "19                Tablet  \n",
       "20                 Capsule\n",
       "21                 Capsule\n",
       "22                 Capsule\n",
       "23                 Capsule\n",
       "24                Tablet  \n",
       "25                 Capsule\n",
       "26                 Capsule\n",
       "27                 Capsule\n",
       "28                Tablet  \n",
       "29                Tablet  \n",
       "               ...        \n",
       "7515              Tablet  \n",
       "7516              Tablet  \n",
       "7517              Tablet  \n",
       "7518              Tablet  \n",
       "7519              Tablet  \n",
       "7520              Tablet  \n",
       "7521              Tablet  \n",
       "7522    Film coated tablet\n",
       "7523               Capsule\n",
       "7524               Capsule\n",
       "7525               Capsule\n",
       "7526               Capsule\n",
       "7527               Capsule\n",
       "7528               Capsule\n",
       "7529              Tablet  \n",
       "7530              Tablet  \n",
       "7531              Tablet  \n",
       "7532              Tablet  \n",
       "7533              Tablet  \n",
       "7534              Tablet  \n",
       "7535              Tablet  \n",
       "7536              Tablet  \n",
       "7537              Tablet  \n",
       "7538              Tablet  \n",
       "7539              Tablet  \n",
       "7540             Injection\n",
       "7541              Tablet  \n",
       "7542             Injection\n",
       "7543             Injection\n",
       "7544             Injection\n",
       "Name: Type, Length: 7545, dtype: object>"
      ]
     },
     "execution_count": 6,
     "metadata": {},
     "output_type": "execute_result"
    }
   ],
   "source": [
    "df['Type']"
   ]
  },
  {
   "cell_type": "code",
   "execution_count": null,
   "metadata": {},
   "outputs": [],
   "source": []
  }
 ],
 "metadata": {
  "kernelspec": {
   "display_name": "Python 3",
   "language": "python",
   "name": "python3"
  },
  "language_info": {
   "codemirror_mode": {
    "name": "ipython",
    "version": 3
   },
   "file_extension": ".py",
   "mimetype": "text/x-python",
   "name": "python",
   "nbconvert_exporter": "python",
   "pygments_lexer": "ipython3",
   "version": "3.6.6"
  }
 },
 "nbformat": 4,
 "nbformat_minor": 2
}
